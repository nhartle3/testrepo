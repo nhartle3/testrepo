{
 "cells": [
  {
   "cell_type": "code",
   "execution_count": 3,
   "id": "6be64b83-e5b7-4828-ab0e-9adb550ef886",
   "metadata": {},
   "outputs": [
    {
     "data": {
      "text/plain": [
       "2"
      ]
     },
     "execution_count": 3,
     "metadata": {},
     "output_type": "execute_result"
    }
   ],
   "source": [
    "1+1\n"
   ]
  },
  {
   "cell_type": "code",
   "execution_count": null,
   "id": "17e72f8e-858c-4c00-9f9b-ae91e5b2bced",
   "metadata": {},
   "outputs": [],
   "source": [
    "1+1"
   ]
  },
  {
   "cell_type": "markdown",
   "id": "fb1b0550-7058-4659-977d-d17c539e8bcd",
   "metadata": {},
   "source": [
    "my title"
   ]
  },
  {
   "cell_type": "code",
   "execution_count": null,
   "id": "37f238eb-d15b-4042-9acf-d37e537f7771",
   "metadata": {},
   "outputs": [],
   "source": []
  }
 ],
 "metadata": {
  "kernelspec": {
   "display_name": "Python",
   "language": "python",
   "name": "conda-env-python-py"
  },
  "language_info": {
   "codemirror_mode": {
    "name": "ipython",
    "version": 3
   },
   "file_extension": ".py",
   "mimetype": "text/x-python",
   "name": "python",
   "nbconvert_exporter": "python",
   "pygments_lexer": "ipython3",
   "version": "3.7.10"
  }
 },
 "nbformat": 4,
 "nbformat_minor": 5
}
